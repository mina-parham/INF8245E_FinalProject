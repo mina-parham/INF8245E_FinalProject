{
 "cells": [
  {
   "cell_type": "code",
   "execution_count": null,
   "metadata": {
    "colab": {
     "base_uri": "https://localhost:8080/",
     "height": 537
    },
    "id": "rAyeycfUY7dU",
    "outputId": "a09e8dc4-9ef9-4550-c9fc-2d6597d98bc4"
   },
   "outputs": [],
   "source": []
  },
  {
   "cell_type": "code",
   "execution_count": null,
   "metadata": {
    "id": "BxZiRqZfZJDK"
   },
   "outputs": [],
   "source": []
  },
  {
   "cell_type": "code",
   "execution_count": null,
   "metadata": {
    "colab": {
     "base_uri": "https://localhost:8080/"
    },
    "id": "w7JtlctKZJce",
    "outputId": "c1b30b4c-64d9-4a87-f086-6b2c651ae17a"
   },
   "outputs": [],
   "source": []
  },
  {
   "cell_type": "code",
   "execution_count": 73,
   "metadata": {
    "id": "AXxrpUz0ZJ63"
   },
   "outputs": [],
   "source": [
    "import pandas as pd\n",
    "import matplotlib.pyplot as plt\n",
    "import numpy as np\n",
    "import time\n",
    "import pickle\n",
    "import csv\n",
    "import torch\n",
    "import torchvision\n",
    "from sklearn import preprocessing\n",
    "from torchvision import transforms, datasets\n",
    "from tqdm import tqdm\n",
    "from tensorflow import keras\n",
    "from sklearn.model_selection import train_test_split\n",
    "import torch.nn as nn\n",
    "import torch.nn.functional as F\n",
    "import torch.optim as optim\n",
    "from keras.preprocessing.image import ImageDataGenerator\n",
    "import tensorflow as tf\n",
    "from tensorflow.keras.models import Sequential\n",
    "from tensorflow.keras.layers import Dense, Conv2D, Dropout, Flatten, MaxPooling2D,LeakyReLU\n",
    "from keras.utils.np_utils import to_categorical \n",
    "from keras.models import Sequential\n",
    "from keras.layers import Dense, Dropout, Flatten, Conv2D, MaxPool2D ,BatchNormalization,Activation\n",
    "from tensorflow.keras.optimizers import Adam ,RMSprop\n",
    "from keras.preprocessing.image import ImageDataGenerator\n",
    "from sklearn.model_selection import train_test_split\n",
    "from keras import regularizers\n",
    "from keras.regularizers import l2\n",
    "from tensorflow.keras import layers"
   ]
  },
  {
   "cell_type": "code",
   "execution_count": 2,
   "metadata": {
    "id": "hskLMJRXZhFy"
   },
   "outputs": [],
   "source": [
    "SUBMISSION_HEADER = ['Id', 'class']\n",
    "RANDOM_STATE = 0"
   ]
  },
  {
   "cell_type": "code",
   "execution_count": 3,
   "metadata": {
    "id": "x8pEa0MJZjp1"
   },
   "outputs": [],
   "source": [
    "def open_pickled_file(file):\n",
    "    with open(file, 'rb') as f:\n",
    "        data = pd.read_pickle(file)\n",
    "    return np.asarray(data)"
   ]
  },
  {
   "cell_type": "code",
   "execution_count": 80,
   "metadata": {
    "id": "eQRiBQEDZm6b"
   },
   "outputs": [],
   "source": [
    "def export_predictions(y_pred):\n",
    "    timestr = time.strftime(\"%Y%m%d-%H%M%S\")\n",
    "    filename = '../prediction-{}.csv'.format(timestr)\n",
    "    print(filename)\n",
    "    file = open(filename, 'w+', newline ='')\n",
    "    with file:    \n",
    "        writer = csv.writer(file)\n",
    "        writer.writerow(SUBMISSION_HEADER)\n",
    "        writer.writerows(enumerate(y_pred))"
   ]
  },
  {
   "cell_type": "code",
   "execution_count": 5,
   "metadata": {
    "id": "nXJ7d1ajZpXT"
   },
   "outputs": [],
   "source": [
    "def preprocess(X, y):\n",
    "    X = scale(X)\n",
    "    y = encode(y)\n",
    "    return X, y"
   ]
  },
  {
   "cell_type": "code",
   "execution_count": 6,
   "metadata": {
    "id": "Xuu4ORhcZsST"
   },
   "outputs": [],
   "source": [
    "def encode(y):\n",
    "    le = preprocessing.LabelEncoder()\n",
    "    le.fit(y)\n",
    "    return le.transform(y)"
   ]
  },
  {
   "cell_type": "code",
   "execution_count": 7,
   "metadata": {
    "id": "QZnCQV2SZva1"
   },
   "outputs": [],
   "source": [
    "def scale(X):\n",
    "    max_val = np.max(X)\n",
    "    return X/max_val"
   ]
  },
  {
   "cell_type": "code",
   "execution_count": 10,
   "metadata": {
    "id": "LPXV9TOGZyjB"
   },
   "outputs": [
    {
     "name": "stdout",
     "output_type": "stream",
     "text": [
      "/Users/athul/git/map-kaggle\n"
     ]
    }
   ],
   "source": [
    "%cd ~/git/map-kaggle/\n",
    "X_train_raw = open_pickled_file('./dataset/x_train.pkl.zip')\n",
    "y_train_raw = open_pickled_file('./dataset/y_train.pkl')\n",
    "X_test_raw = open_pickled_file('./dataset/x_test.pkl.zip')"
   ]
  },
  {
   "cell_type": "code",
   "execution_count": 91,
   "metadata": {
    "id": "BWeWIDLQuH2M"
   },
   "outputs": [],
   "source": [
    "X_train, y_train = preprocess(X_train_raw, y_train_raw)"
   ]
  },
  {
   "cell_type": "code",
   "execution_count": 92,
   "metadata": {
    "id": "js-BnrUW4oAo"
   },
   "outputs": [],
   "source": [
    "X_test = X_test_raw/255\n",
    "X_test = X_test.reshape(-1, 96, 96, 1)"
   ]
  },
  {
   "cell_type": "code",
   "execution_count": 93,
   "metadata": {
    "id": "3x9yL5emZ1Ko"
   },
   "outputs": [],
   "source": [
    "Y_enc = to_categorical(y_train, 11)"
   ]
  },
  {
   "cell_type": "code",
   "execution_count": 96,
   "metadata": {},
   "outputs": [
    {
     "data": {
      "text/plain": [
       "array([ 0,  1,  2,  3,  4,  5,  6,  7,  8,  9, 10])"
      ]
     },
     "execution_count": 96,
     "metadata": {},
     "output_type": "execute_result"
    }
   ],
   "source": [
    "np.unique(y_train)"
   ]
  },
  {
   "cell_type": "code",
   "execution_count": 48,
   "metadata": {
    "id": "0TZ1Rs_PlXkZ"
   },
   "outputs": [],
   "source": [
    "X_train_shape = X_train.reshape(-1, 96, 96, 1)"
   ]
  },
  {
   "cell_type": "code",
   "execution_count": 58,
   "metadata": {
    "id": "_wGpWixHmPIr"
   },
   "outputs": [],
   "source": [
    "X_train, X_val, y_train, y_val = train_test_split(X_train_shape, Y_enc, test_size=0.2, random_state=0)"
   ]
  },
  {
   "cell_type": "code",
   "execution_count": 59,
   "metadata": {
    "id": "dcYgn1sOmgVr"
   },
   "outputs": [],
   "source": [
    "batch_size = 128\n",
    "epochs = 5\n",
    "num_classes = 11"
   ]
  },
  {
   "cell_type": "code",
   "execution_count": null,
   "metadata": {
    "id": "WeHwGS31zmmw"
   },
   "outputs": [],
   "source": []
  },
  {
   "cell_type": "code",
   "execution_count": 60,
   "metadata": {
    "id": "pt18gWWjmqnx"
   },
   "outputs": [],
   "source": [
    "model = Sequential([\n",
    "# data_augmentation,\n",
    "layers.Conv2D(32, kernel_size=(3, 3), activation='linear', input_shape=(96,96,1), padding='same'),\n",
    "layers.LeakyReLU(alpha=0.1),\n",
    "layers.MaxPooling2D((2, 2), padding='same'),\n",
    "\n",
    "layers.Conv2D(64, (3, 3), activation='linear', padding='same'),\n",
    "layers.LeakyReLU(alpha=0.1),\n",
    "layers.MaxPooling2D(pool_size=(2, 2), padding='same'),\n",
    "\n",
    "layers.Conv2D(128, (3, 3), activation='linear',padding='same'),\n",
    "layers.LeakyReLU(alpha=0.1),          \n",
    "layers.MaxPooling2D(pool_size=(2, 2),padding='same'),\n",
    "\n",
    "layers.Conv2D(256, (3, 3), activation='linear',padding='same'),\n",
    "layers.LeakyReLU(alpha=0.1),                 \n",
    "layers.MaxPooling2D(pool_size=(2, 2),padding='same'),\n",
    "layers.Dropout(0.25),\n",
    "\n",
    "layers.Flatten(),\n",
    "\n",
    "layers.Dense(128, activation='linear'),\n",
    "layers.LeakyReLU(alpha=0.1),  \n",
    "layers.Dropout(0.25),\n",
    "\n",
    "layers.Dense(num_classes, activation='softmax')])"
   ]
  },
  {
   "cell_type": "code",
   "execution_count": 61,
   "metadata": {
    "id": "PeDgh-IbZ5ZP"
   },
   "outputs": [],
   "source": [
    "def data_augmentation(X, y):\n",
    "    img = ImageDataGenerator(rotation_range = 90)\n",
    "    Train_batch = img.flow(X, y, batch_size = 128)\n",
    "    return Train_batch"
   ]
  },
  {
   "cell_type": "code",
   "execution_count": 98,
   "metadata": {},
   "outputs": [
    {
     "data": {
      "text/plain": [
       "array([[1., 0., 0., ..., 0., 0., 0.],\n",
       "       [0., 0., 0., ..., 0., 0., 0.],\n",
       "       [0., 0., 0., ..., 0., 0., 1.],\n",
       "       ...,\n",
       "       [0., 0., 0., ..., 0., 0., 0.],\n",
       "       [0., 0., 0., ..., 0., 0., 0.],\n",
       "       [0., 0., 0., ..., 0., 0., 0.]], dtype=float32)"
      ]
     },
     "execution_count": 98,
     "metadata": {},
     "output_type": "execute_result"
    }
   ],
   "source": [
    "Y_enc"
   ]
  },
  {
   "cell_type": "code",
   "execution_count": 62,
   "metadata": {
    "id": "vT93jEI4aj3l"
   },
   "outputs": [],
   "source": [
    "dataload = data_augmentation(X_train_shape,Y_enc)"
   ]
  },
  {
   "cell_type": "code",
   "execution_count": 63,
   "metadata": {
    "colab": {
     "base_uri": "https://localhost:8080/"
    },
    "id": "akjpHOLzTHGc",
    "outputId": "94a244ec-221f-466f-cfda-126aed6ee85c"
   },
   "outputs": [
    {
     "data": {
      "text/plain": [
       "False"
      ]
     },
     "execution_count": 63,
     "metadata": {},
     "output_type": "execute_result"
    }
   ],
   "source": [
    "tf.test.is_built_with_cuda()"
   ]
  },
  {
   "cell_type": "code",
   "execution_count": 64,
   "metadata": {
    "colab": {
     "base_uri": "https://localhost:8080/",
     "height": 35
    },
    "id": "QaBfBMDbTJk6",
    "outputId": "fd245dc8-b98a-40cd-8cbb-e45051767c95"
   },
   "outputs": [
    {
     "name": "stderr",
     "output_type": "stream",
     "text": [
      "2021-11-28 23:13:10.940609: I tensorflow/core/common_runtime/pluggable_device/pluggable_device_factory.cc:305] Could not identify NUMA node of platform GPU ID 0, defaulting to 0. Your kernel may not have been built with NUMA support.\n",
      "2021-11-28 23:13:10.940702: I tensorflow/core/common_runtime/pluggable_device/pluggable_device_factory.cc:271] Created TensorFlow device (/device:GPU:0 with 0 MB memory) -> physical PluggableDevice (device: 0, name: METAL, pci bus id: <undefined>)\n"
     ]
    },
    {
     "data": {
      "text/plain": [
       "'/device:GPU:0'"
      ]
     },
     "execution_count": 64,
     "metadata": {},
     "output_type": "execute_result"
    }
   ],
   "source": [
    "tf.test.gpu_device_name()"
   ]
  },
  {
   "cell_type": "code",
   "execution_count": 75,
   "metadata": {
    "colab": {
     "base_uri": "https://localhost:8080/"
    },
    "id": "1xG8dpfdnhob",
    "outputId": "eaf12666-d63b-43b5-f52d-e07df7ca8a2f"
   },
   "outputs": [
    {
     "name": "stdout",
     "output_type": "stream",
     "text": [
      "Epoch 1/100\n"
     ]
    },
    {
     "name": "stderr",
     "output_type": "stream",
     "text": [
      "2021-11-28 23:15:35.778134: I tensorflow/core/grappler/optimizers/custom_graph_optimizer_registry.cc:112] Plugin optimizer for device_type GPU is enabled.\n"
     ]
    },
    {
     "name": "stdout",
     "output_type": "stream",
     "text": [
      "93/93 [==============================] - 18s 180ms/step - loss: 1.9513 - accuracy: 0.3352\n",
      "Epoch 2/100\n",
      "93/93 [==============================] - 19s 201ms/step - loss: 1.7680 - accuracy: 0.3989\n",
      "Epoch 3/100\n",
      "93/93 [==============================] - 17s 180ms/step - loss: 1.6309 - accuracy: 0.4485\n",
      "Epoch 4/100\n",
      "93/93 [==============================] - 16s 169ms/step - loss: 1.5601 - accuracy: 0.4686\n",
      "Epoch 5/100\n",
      "93/93 [==============================] - 20s 219ms/step - loss: 1.4690 - accuracy: 0.5105\n",
      "Epoch 6/100\n",
      "93/93 [==============================] - 23s 253ms/step - loss: 1.4145 - accuracy: 0.5229\n",
      "Epoch 7/100\n",
      "93/93 [==============================] - 20s 217ms/step - loss: 1.3623 - accuracy: 0.5410\n",
      "Epoch 8/100\n",
      "93/93 [==============================] - 15s 155ms/step - loss: 1.3153 - accuracy: 0.5544\n",
      "Epoch 9/100\n",
      "93/93 [==============================] - 14s 146ms/step - loss: 1.2597 - accuracy: 0.5800\n",
      "Epoch 10/100\n",
      "93/93 [==============================] - 13s 144ms/step - loss: 1.2337 - accuracy: 0.5863\n",
      "Epoch 11/100\n",
      "93/93 [==============================] - 14s 145ms/step - loss: 1.2014 - accuracy: 0.5959\n",
      "Epoch 12/100\n",
      "93/93 [==============================] - 14s 146ms/step - loss: 1.1400 - accuracy: 0.6119\n",
      "Epoch 13/100\n",
      "93/93 [==============================] - 17s 178ms/step - loss: 1.1372 - accuracy: 0.6128\n",
      "Epoch 14/100\n",
      "93/93 [==============================] - 14s 148ms/step - loss: 1.1098 - accuracy: 0.6263\n",
      "Epoch 15/100\n",
      "93/93 [==============================] - 14s 147ms/step - loss: 1.0595 - accuracy: 0.6440\n",
      "Epoch 16/100\n",
      "93/93 [==============================] - 15s 159ms/step - loss: 1.0466 - accuracy: 0.6463\n",
      "Epoch 17/100\n",
      "93/93 [==============================] - 14s 148ms/step - loss: 1.0220 - accuracy: 0.6489\n",
      "Epoch 18/100\n",
      "93/93 [==============================] - 14s 148ms/step - loss: 0.9839 - accuracy: 0.6722\n",
      "Epoch 19/100\n",
      "93/93 [==============================] - 14s 147ms/step - loss: 0.9838 - accuracy: 0.6734\n",
      "Epoch 20/100\n",
      "93/93 [==============================] - 14s 149ms/step - loss: 0.9430 - accuracy: 0.6819\n",
      "Epoch 21/100\n",
      "93/93 [==============================] - 13s 143ms/step - loss: 0.9212 - accuracy: 0.6871\n",
      "Epoch 22/100\n",
      "93/93 [==============================] - 13s 144ms/step - loss: 0.9015 - accuracy: 0.6962\n",
      "Epoch 23/100\n",
      "93/93 [==============================] - 13s 144ms/step - loss: 0.9048 - accuracy: 0.6945\n",
      "Epoch 24/100\n",
      "93/93 [==============================] - 13s 142ms/step - loss: 0.8538 - accuracy: 0.7162\n",
      "Epoch 25/100\n",
      "93/93 [==============================] - 13s 144ms/step - loss: 0.8611 - accuracy: 0.7063\n",
      "Epoch 26/100\n",
      "93/93 [==============================] - 14s 148ms/step - loss: 0.8491 - accuracy: 0.7141\n",
      "Epoch 27/100\n",
      "93/93 [==============================] - 13s 143ms/step - loss: 0.8293 - accuracy: 0.7228\n",
      "Epoch 28/100\n",
      "93/93 [==============================] - 14s 145ms/step - loss: 0.8253 - accuracy: 0.7185\n",
      "Epoch 29/100\n",
      "93/93 [==============================] - 14s 145ms/step - loss: 0.8004 - accuracy: 0.7290\n",
      "Epoch 30/100\n",
      "93/93 [==============================] - 13s 144ms/step - loss: 0.7867 - accuracy: 0.7312\n",
      "Epoch 31/100\n",
      "93/93 [==============================] - 13s 144ms/step - loss: 0.7881 - accuracy: 0.7364\n",
      "Epoch 32/100\n",
      "93/93 [==============================] - 14s 146ms/step - loss: 0.7528 - accuracy: 0.7459\n",
      "Epoch 33/100\n",
      "93/93 [==============================] - 14s 146ms/step - loss: 0.7388 - accuracy: 0.7510\n",
      "Epoch 34/100\n",
      "93/93 [==============================] - 14s 148ms/step - loss: 0.7393 - accuracy: 0.7456\n",
      "Epoch 35/100\n",
      "93/93 [==============================] - 14s 146ms/step - loss: 0.7317 - accuracy: 0.7507\n",
      "Epoch 36/100\n",
      "93/93 [==============================] - 13s 144ms/step - loss: 0.7035 - accuracy: 0.7631\n",
      "Epoch 37/100\n",
      "93/93 [==============================] - 13s 144ms/step - loss: 0.7038 - accuracy: 0.7614\n",
      "Epoch 38/100\n",
      "93/93 [==============================] - 14s 145ms/step - loss: 0.6805 - accuracy: 0.7678\n",
      "Epoch 39/100\n",
      "93/93 [==============================] - 13s 144ms/step - loss: 0.6859 - accuracy: 0.7660\n",
      "Epoch 40/100\n",
      "93/93 [==============================] - 14s 145ms/step - loss: 0.7049 - accuracy: 0.7617\n",
      "Epoch 41/100\n",
      "93/93 [==============================] - 14s 145ms/step - loss: 0.6827 - accuracy: 0.7692\n",
      "Epoch 42/100\n",
      "93/93 [==============================] - 14s 149ms/step - loss: 0.6448 - accuracy: 0.7772\n",
      "Epoch 43/100\n",
      "93/93 [==============================] - 13s 144ms/step - loss: 0.6632 - accuracy: 0.7733\n",
      "Epoch 44/100\n",
      "93/93 [==============================] - 14s 149ms/step - loss: 0.6334 - accuracy: 0.7845\n",
      "Epoch 45/100\n",
      "93/93 [==============================] - 13s 144ms/step - loss: 0.6308 - accuracy: 0.7830\n",
      "Epoch 46/100\n",
      "93/93 [==============================] - 14s 147ms/step - loss: 0.6080 - accuracy: 0.7929\n",
      "Epoch 47/100\n",
      "93/93 [==============================] - 14s 146ms/step - loss: 0.6094 - accuracy: 0.7891\n",
      "Epoch 48/100\n",
      "93/93 [==============================] - 14s 145ms/step - loss: 0.5989 - accuracy: 0.7958\n",
      "Epoch 49/100\n",
      "93/93 [==============================] - 14s 145ms/step - loss: 0.5988 - accuracy: 0.7984\n",
      "Epoch 50/100\n",
      "93/93 [==============================] - 13s 144ms/step - loss: 0.5993 - accuracy: 0.7966\n",
      "Epoch 51/100\n",
      "93/93 [==============================] - 165s 2s/step - loss: 0.5695 - accuracy: 0.8064\n",
      "Epoch 52/100\n",
      "93/93 [==============================] - 21s 221ms/step - loss: 0.5809 - accuracy: 0.8011\n",
      "Epoch 53/100\n",
      "93/93 [==============================] - 14s 148ms/step - loss: 0.5591 - accuracy: 0.8079\n",
      "Epoch 54/100\n",
      "93/93 [==============================] - 19s 209ms/step - loss: 0.5487 - accuracy: 0.8169\n",
      "Epoch 55/100\n",
      "93/93 [==============================] - 14s 151ms/step - loss: 0.5625 - accuracy: 0.8048\n",
      "Epoch 56/100\n",
      "93/93 [==============================] - 14s 148ms/step - loss: 0.5452 - accuracy: 0.8116\n",
      "Epoch 57/100\n",
      "93/93 [==============================] - 14s 147ms/step - loss: 0.5261 - accuracy: 0.8204\n",
      "Epoch 58/100\n",
      "93/93 [==============================] - 15s 156ms/step - loss: 0.5277 - accuracy: 0.8209\n",
      "Epoch 59/100\n",
      "93/93 [==============================] - 14s 146ms/step - loss: 0.5373 - accuracy: 0.8153\n",
      "Epoch 60/100\n",
      "93/93 [==============================] - 14s 148ms/step - loss: 0.5424 - accuracy: 0.8162\n",
      "Epoch 61/100\n",
      "93/93 [==============================] - 14s 146ms/step - loss: 0.5077 - accuracy: 0.8265\n",
      "Epoch 62/100\n",
      "93/93 [==============================] - 14s 148ms/step - loss: 0.4966 - accuracy: 0.8258\n",
      "Epoch 63/100\n",
      "93/93 [==============================] - 14s 146ms/step - loss: 0.4903 - accuracy: 0.8313\n",
      "Epoch 64/100\n",
      "93/93 [==============================] - 14s 147ms/step - loss: 0.5070 - accuracy: 0.8281\n",
      "Epoch 65/100\n",
      "93/93 [==============================] - 14s 145ms/step - loss: 0.4892 - accuracy: 0.8307\n",
      "Epoch 66/100\n",
      "93/93 [==============================] - 14s 146ms/step - loss: 0.4943 - accuracy: 0.8302\n",
      "Epoch 67/100\n",
      "93/93 [==============================] - 14s 147ms/step - loss: 0.4951 - accuracy: 0.8287\n",
      "Epoch 68/100\n",
      "93/93 [==============================] - 14s 148ms/step - loss: 0.4710 - accuracy: 0.8396\n",
      "Epoch 69/100\n",
      "93/93 [==============================] - 14s 146ms/step - loss: 0.4940 - accuracy: 0.8323\n",
      "Epoch 70/100\n",
      "93/93 [==============================] - 14s 145ms/step - loss: 0.4528 - accuracy: 0.8468\n",
      "Epoch 71/100\n",
      "93/93 [==============================] - 14s 148ms/step - loss: 0.4766 - accuracy: 0.8371\n",
      "Epoch 72/100\n",
      "93/93 [==============================] - 14s 146ms/step - loss: 0.4611 - accuracy: 0.8410\n",
      "Epoch 73/100\n",
      "93/93 [==============================] - 14s 147ms/step - loss: 0.4447 - accuracy: 0.8492\n",
      "Epoch 74/100\n",
      "93/93 [==============================] - 14s 145ms/step - loss: 0.4459 - accuracy: 0.8464\n",
      "Epoch 75/100\n",
      "93/93 [==============================] - 14s 145ms/step - loss: 0.4462 - accuracy: 0.8501\n",
      "Epoch 76/100\n",
      "93/93 [==============================] - 14s 146ms/step - loss: 0.4467 - accuracy: 0.8478\n",
      "Epoch 77/100\n",
      "93/93 [==============================] - 14s 147ms/step - loss: 0.4456 - accuracy: 0.8450\n",
      "Epoch 78/100\n",
      "93/93 [==============================] - 14s 146ms/step - loss: 0.4335 - accuracy: 0.8509\n",
      "Epoch 79/100\n",
      "93/93 [==============================] - 14s 147ms/step - loss: 0.4268 - accuracy: 0.8554\n",
      "Epoch 80/100\n",
      "93/93 [==============================] - 14s 146ms/step - loss: 0.4195 - accuracy: 0.8553\n",
      "Epoch 81/100\n",
      "93/93 [==============================] - 14s 145ms/step - loss: 0.4419 - accuracy: 0.8475\n",
      "Epoch 82/100\n",
      "93/93 [==============================] - 14s 145ms/step - loss: 0.4185 - accuracy: 0.8569\n",
      "Epoch 83/100\n",
      "93/93 [==============================] - 14s 146ms/step - loss: 0.4205 - accuracy: 0.8565\n",
      "Epoch 84/100\n",
      "93/93 [==============================] - 14s 148ms/step - loss: 0.4277 - accuracy: 0.8536\n",
      "Epoch 85/100\n",
      "93/93 [==============================] - 14s 149ms/step - loss: 0.4171 - accuracy: 0.8551\n",
      "Epoch 86/100\n",
      "93/93 [==============================] - 14s 145ms/step - loss: 0.4009 - accuracy: 0.8625\n",
      "Epoch 87/100\n",
      "93/93 [==============================] - 14s 146ms/step - loss: 0.4000 - accuracy: 0.8650\n",
      "Epoch 88/100\n",
      "93/93 [==============================] - 14s 149ms/step - loss: 0.3872 - accuracy: 0.8639\n",
      "Epoch 89/100\n",
      "93/93 [==============================] - 14s 149ms/step - loss: 0.4016 - accuracy: 0.8588\n",
      "Epoch 90/100\n",
      "93/93 [==============================] - 14s 146ms/step - loss: 0.3895 - accuracy: 0.8646\n",
      "Epoch 91/100\n",
      "93/93 [==============================] - 14s 149ms/step - loss: 0.3970 - accuracy: 0.8628\n",
      "Epoch 92/100\n",
      "93/93 [==============================] - 14s 154ms/step - loss: 0.3912 - accuracy: 0.8657\n",
      "Epoch 93/100\n",
      "93/93 [==============================] - 14s 153ms/step - loss: 0.3897 - accuracy: 0.8661\n",
      "Epoch 94/100\n",
      "93/93 [==============================] - 14s 147ms/step - loss: 0.3849 - accuracy: 0.8667\n",
      "Epoch 95/100\n",
      "93/93 [==============================] - 14s 147ms/step - loss: 0.3772 - accuracy: 0.8679\n",
      "Epoch 96/100\n",
      "93/93 [==============================] - 14s 146ms/step - loss: 0.3973 - accuracy: 0.8660\n",
      "Epoch 97/100\n",
      "93/93 [==============================] - 14s 146ms/step - loss: 0.3829 - accuracy: 0.8693\n",
      "Epoch 98/100\n",
      "93/93 [==============================] - 14s 146ms/step - loss: 0.3868 - accuracy: 0.8674\n",
      "Epoch 99/100\n",
      "93/93 [==============================] - 14s 150ms/step - loss: 0.3812 - accuracy: 0.8686\n",
      "Epoch 100/100\n",
      "93/93 [==============================] - 14s 147ms/step - loss: 0.3584 - accuracy: 0.8781\n",
      "23min 58s ± 0 ns per loop (mean ± std. dev. of 1 run, 1 loop each)\n"
     ]
    }
   ],
   "source": [
    "%%timeit -n1 -r1 \n",
    "with tf.device('/GPU:0'):\n",
    "    model.compile(loss=\"categorical_crossentropy\", optimizer= Adam(learning_rate=0.001), metrics=[\"accuracy\"])\n",
    "    # This model is overfitting\n",
    "    # model.fit(X_train, y_train, epochs=50, shuffle= True)\n",
    "    model.fit(dataload, batch_size=batch_size, epochs=100, shuffle=True)"
   ]
  },
  {
   "cell_type": "code",
   "execution_count": 76,
   "metadata": {
    "colab": {
     "base_uri": "https://localhost:8080/"
    },
    "id": "U0jDpU-GzpZQ",
    "outputId": "16fa8665-1717-4582-cda9-ec043da56c6b"
   },
   "outputs": [
    {
     "name": "stderr",
     "output_type": "stream",
     "text": [
      "2021-11-28 23:41:58.349275: I tensorflow/core/grappler/optimizers/custom_graph_optimizer_registry.cc:112] Plugin optimizer for device_type GPU is enabled.\n"
     ]
    },
    {
     "name": "stdout",
     "output_type": "stream",
     "text": [
      "75/75 [==============================] - 2s 15ms/step - loss: 0.3828 - accuracy: 0.8688\n"
     ]
    },
    {
     "data": {
      "text/plain": [
       "[0.38277286291122437, 0.8687973022460938]"
      ]
     },
     "execution_count": 76,
     "metadata": {},
     "output_type": "execute_result"
    }
   ],
   "source": [
    "model.evaluate(X_val, y_val)"
   ]
  },
  {
   "cell_type": "code",
   "execution_count": 77,
   "metadata": {
    "id": "ghtuw2Je15UG"
   },
   "outputs": [],
   "source": [
    "pred = model.predict(X_test)\n",
    "pred = np.argmax(pred, axis=1)\n",
    "export_predictions(pred)"
   ]
  },
  {
   "cell_type": "code",
   "execution_count": null,
   "metadata": {},
   "outputs": [],
   "source": []
  }
 ],
 "metadata": {
  "accelerator": "GPU",
  "colab": {
   "collapsed_sections": [],
   "name": "CNN_final.ipynb",
   "provenance": []
  },
  "kernelspec": {
   "display_name": "Python 3 (ipykernel)",
   "language": "python",
   "name": "python3"
  },
  "language_info": {
   "codemirror_mode": {
    "name": "ipython",
    "version": 3
   },
   "file_extension": ".py",
   "mimetype": "text/x-python",
   "name": "python",
   "nbconvert_exporter": "python",
   "pygments_lexer": "ipython3",
   "version": "3.9.7"
  }
 },
 "nbformat": 4,
 "nbformat_minor": 4
}

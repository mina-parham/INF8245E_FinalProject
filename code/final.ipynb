{
 "cells": [
  {
   "cell_type": "code",
   "execution_count": null,
   "id": "7de51861-4221-4ba6-b4c5-baa7f4e2cd07",
   "metadata": {},
   "outputs": [],
   "source": [
    "import pandas\n",
    "import numpy as np\n",
    "from tqdm import tqdm\n",
    "import time\n",
    "import csv\n",
    "from matplotlib import pyplot as plt\n",
    "\n",
    "from keras.preprocessing.image import ImageDataGenerator\n",
    "\n",
    "#Scikit-learn\n",
    "from sklearn.model_selection import train_test_split\n",
    "from sklearn.model_selection import GridSearchCV\n",
    "from sklearn import preprocessing\n",
    "from sklearn.svm import SVC\n",
    "from sklearn.linear_model import LogisticRegression\n",
    "\n",
    "# Tensorflow\n",
    "import tensorflow as tf\n",
    "from keras.utils.np_utils import to_categorical\n",
    "from tensorflow.keras import layers\n",
    "from tensorflow.keras.models import Sequential\n",
    "from tensorflow.keras.optimizers import Adam ,RMSprop, SGD\n",
    "from tensorflow.keras.layers import Dense, Conv2D, Dropout, Flatten, MaxPooling2D,LeakyReLU"
   ]
  },
  {
   "cell_type": "code",
   "execution_count": null,
   "id": "74d20358-aada-4a51-a87f-6913b949c621",
   "metadata": {},
   "outputs": [],
   "source": [
    "SUBMISSION_HEADER = ['Id', 'class']\n",
    "RANDOM_STATE = 0"
   ]
  },
  {
   "cell_type": "code",
   "execution_count": null,
   "id": "95b3b8ad-7c3d-4e4f-a431-16627bcd8f7d",
   "metadata": {},
   "outputs": [],
   "source": [
    "def open_pickled_file(file):\n",
    "    with open(file, 'rb') as f:\n",
    "        data = pandas.read_pickle(file)\n",
    "    return np.asarray(data)"
   ]
  },
  {
   "cell_type": "code",
   "execution_count": null,
   "id": "4a085631-44fe-4eaf-9f8f-0e10d3510246",
   "metadata": {},
   "outputs": [],
   "source": [
    "def export_predictions(y_pred):\n",
    "    timestr = time.strftime(\"%Y%m%d-%H%M%S\")\n",
    "    filename = '../prediction-{}.csv'.format(timestr)\n",
    "    file = open(filename, 'w+', newline ='')\n",
    "    with file:    \n",
    "        writer = csv.writer(file)\n",
    "        writer.writerow(SUBMISSION_HEADER)\n",
    "        writer.writerows(enumerate(y_pred))\n",
    "    print('Predictions exported to prediction.csv')"
   ]
  },
  {
   "cell_type": "code",
   "execution_count": null,
   "id": "29e2d17b-2bdf-4152-98f4-f543afbc0705",
   "metadata": {},
   "outputs": [],
   "source": [
    "def show_image(data):\n",
    "    plt.imshow(data, interpolation='nearest')\n",
    "    plt.show()"
   ]
  },
  {
   "cell_type": "code",
   "execution_count": null,
   "id": "b979682b-08ce-4f05-8483-17cf19f04a77",
   "metadata": {},
   "outputs": [],
   "source": [
    "def split_dataset(X_dataset, y_dataset, test_size=0.2, random_state=0, shuffle=False):\n",
    "    return train_test_split(X_dataset, y_dataset, test_size=test_size, random_state=random_state, shuffle=shuffle)"
   ]
  },
  {
   "cell_type": "code",
   "execution_count": null,
   "id": "031a28b6-925f-4385-a536-244ec7aa7a2e",
   "metadata": {},
   "outputs": [],
   "source": [
    "%cd ~/git/map-kaggle/"
   ]
  },
  {
   "cell_type": "code",
   "execution_count": null,
   "id": "8281e91d-345d-4a2a-80e1-d920fec984da",
   "metadata": {},
   "outputs": [],
   "source": [
    "X_train_raw = open_pickled_file('./dataset/x_train.pkl.zip')\n",
    "y_train_raw = open_pickled_file('./dataset/y_train.pkl')\n",
    "X_test_raw = open_pickled_file('./dataset/x_test.pkl.zip')"
   ]
  },
  {
   "cell_type": "code",
   "execution_count": null,
   "id": "03ba3b6e-73ef-4616-bda8-2f5676bb4085",
   "metadata": {},
   "outputs": [],
   "source": []
  },
  {
   "cell_type": "code",
   "execution_count": null,
   "id": "02bb02a6-68e8-4ce4-8c61-749a9a0e5293",
   "metadata": {},
   "outputs": [],
   "source": [
    "print(X_train_raw.shape)\n",
    "print(y_train_raw.shape)\n",
    "print(X_test_raw.shape)\n",
    "print(np.unique(y_train_raw))"
   ]
  },
  {
   "cell_type": "code",
   "execution_count": null,
   "id": "95d3debe-706d-46fc-aca4-2588b621ba08",
   "metadata": {},
   "outputs": [],
   "source": []
  },
  {
   "cell_type": "code",
   "execution_count": null,
   "id": "b3b27abb-4771-4530-b458-d9d8e8fe10a1",
   "metadata": {},
   "outputs": [],
   "source": [
    "def flatten(dataframe):\n",
    "    return dataframe.reshape(dataframe.shape[0], dataframe.shape[1] * dataframe.shape[2])"
   ]
  },
  {
   "cell_type": "code",
   "execution_count": null,
   "id": "b8bd92ee-061f-4be1-a966-6f7e6f104309",
   "metadata": {},
   "outputs": [],
   "source": [
    "def encode(y):\n",
    "    le = preprocessing.LabelEncoder()\n",
    "    le.fit(y)\n",
    "    return le.transform(y)"
   ]
  },
  {
   "cell_type": "code",
   "execution_count": null,
   "id": "4052cf36-4fe2-492d-baef-eaac09e1dfd0",
   "metadata": {},
   "outputs": [],
   "source": [
    "def data_augmentation(X, y, rotation_range=90):\n",
    "    img = ImageDataGenerator(rotation_range = rotation_range)\n",
    "    train_batch = img.flow(X, y, batch_size = 128)\n",
    "    return train_batch"
   ]
  },
  {
   "cell_type": "code",
   "execution_count": null,
   "id": "51e9dc5d-b617-4807-810b-55a774071098",
   "metadata": {},
   "outputs": [],
   "source": [
    "def predict_and_export(clf, X):\n",
    "    print('Predicting..')\n",
    "    y_pred = clf.predict(X)\n",
    "    print('Exporting predictions..')\n",
    "    export_predictions(y_pred)\n",
    "    print('Export completed')    "
   ]
  },
  {
   "cell_type": "code",
   "execution_count": null,
   "id": "2b14f854-1341-4df0-8b06-a704a465966d",
   "metadata": {},
   "outputs": [],
   "source": []
  },
  {
   "cell_type": "code",
   "execution_count": null,
   "id": "99c961e3-5d37-406e-9ad3-7af908b0238f",
   "metadata": {},
   "outputs": [],
   "source": [
    "# baseline - SVM\n",
    "def train_svm(X_train, y_train, random_state=RANDOM_STATE, verbosity=True):\n",
    "    clf = SVC(random_state=random_state, verbose=verbosity)\n",
    "    clf.fit(X_train_flattened, y_train)\n",
    "    return clf\n",
    "\n",
    "# baseline - logistic regression\n",
    "def train_logistic_regression(X_train, y_train, random_state=RANDOM_STATE, max_iter=100, verbosity=1):\n",
    "    hyperparameters = []\n",
    "    clf = LogisticRegression(max_iter=max_iter, verbose=verbosity, random_state=random_state)\n",
    "    clf.fit(X_train, y_train)\n",
    "    return clf\n",
    "\n",
    "# CNN\n",
    "def create_cnn(num_classes):\n",
    "    model = Sequential([\n",
    "        \n",
    "        layers.Conv2D(32, kernel_size=(3, 3), activation='linear', input_shape=(96,96), padding='same'),\n",
    "        layers.LeakyReLU(alpha=0.1),\n",
    "        layers.MaxPooling2D((2, 2), padding='same'),\n",
    "\n",
    "        layers.Conv2D(64, (3, 3), activation='linear', padding='same'),\n",
    "        layers.LeakyReLU(alpha=0.1),\n",
    "        layers.MaxPooling2D(pool_size=(2, 2), padding='same'),\n",
    "\n",
    "        layers.Conv2D(128, (3, 3), activation='linear', padding='same'),\n",
    "        layers.LeakyReLU(alpha=0.1),          \n",
    "        layers.MaxPooling2D(pool_size=(2, 2), padding='same'),\n",
    "\n",
    "        layers.Conv2D(256, (3, 3), activation='linear', padding='same'),\n",
    "        layers.LeakyReLU(alpha=0.1),                 \n",
    "        layers.MaxPooling2D(pool_size=(2, 2), padding='same'),\n",
    "        layers.Dropout(0.5),\n",
    "\n",
    "        layers.Flatten(),\n",
    "\n",
    "        layers.Dense(128, activation='linear'),\n",
    "        layers.LeakyReLU(alpha=0.1),  \n",
    "        layers.Dropout(0.5),\n",
    "\n",
    "        layers.Dense(num_classes, activation='softmax')\n",
    "    ])\n",
    "    return model"
   ]
  },
  {
   "cell_type": "code",
   "execution_count": null,
   "id": "6859729c-1aaa-4882-8230-a7896387a1f3",
   "metadata": {},
   "outputs": [],
   "source": [
    "#scale and flatten X\n",
    "X_train_scaled = X_train_raw/255\n",
    "X_train_scaled_reshaped = X_train_scaled.reshape(-1,96,96,1)\n",
    "# X_train_scaled_flattened = flatten(X_train_scaled)\n",
    "\n",
    "X_test_scaled = X_test_raw/255\n",
    "X_test_scaled_reshaped = X_test_scaled.reshape(-1,96,96,1)\n",
    "\n",
    "# X_test_scaled_flattened = flatten(X_test_scaled)\n",
    "\n",
    "#encode y_train\n",
    "y_train_encoded = encode(y_train_raw)\n",
    "Y_train_encoded_categorical = to_categorical(y_train_encoded, 11)\n",
    "X_train, X_val, y_train, y_val = split_dataset(X_train_scaled_reshaped, Y_train_encoded_categorical)"
   ]
  },
  {
   "cell_type": "code",
   "execution_count": null,
   "id": "943a21a5-41ad-4c40-8092-f220c193836c",
   "metadata": {},
   "outputs": [],
   "source": [
    "# print('Training Logistic regression')\n",
    "# clf = train_logistic_regression(X_train, y_train)\n",
    "# predict_and_export(clf, X_test_flattened)\n",
    "\n",
    "# print('Training SVM')\n",
    "# clf = train_svm(X_train, y_train)\n",
    "# predict_and_export(clf, X_test_flattened)"
   ]
  },
  {
   "cell_type": "code",
   "execution_count": null,
   "id": "2b91d931-cde3-4033-b2cc-940ea3f6d338",
   "metadata": {},
   "outputs": [],
   "source": [
    "print('Training CNN')\n",
    "tf.test.is_built_with_cuda()\n",
    "tf.test.gpu_device_name()\n",
    "\n",
    "model = create_cnn(num_classes = 11)\n",
    "dataload = data_augmentation(X_train, y_train,)\n",
    "callback = tf.keras.callbacks.EarlyStopping(monitor='val_loss', min_delta=0.00001, patience=10)\n",
    "\n",
    "with tf.device('/GPU:0'):\n",
    "    model.compile(loss=\"categorical_crossentropy\", optimizer=RMSprop(learning_rate=0.001), metrics=[\"accuracy\"])\n",
    "    model.fit(dataload, validation_data=(X_val, y_val), batch_size=32, epochs=100, shuffle=True, callbacks=[callback])"
   ]
  },
  {
   "cell_type": "code",
   "execution_count": null,
   "id": "8494eaf6-9578-48c3-bc84-3f31021083c5",
   "metadata": {},
   "outputs": [],
   "source": [
    "print(model.evaluate(X_val, y_val))\n",
    "pred = model.predict(X_test_scaled_reshaped)\n",
    "pred = np.argmax(pred, axis=1)\n",
    "export_predictions(pred)"
   ]
  },
  {
   "cell_type": "code",
   "execution_count": null,
   "id": "9599abd1-ff64-4cf9-bcfc-b31bcfe6729a",
   "metadata": {},
   "outputs": [],
   "source": [
    "[0, 0, 0, 0.43, 0.54, 0.03...]"
   ]
  }
 ],
 "metadata": {
  "kernelspec": {
   "display_name": "Python 3 (ipykernel)",
   "language": "python",
   "name": "python3"
  },
  "language_info": {
   "codemirror_mode": {
    "name": "ipython",
    "version": 3
   },
   "file_extension": ".py",
   "mimetype": "text/x-python",
   "name": "python",
   "nbconvert_exporter": "python",
   "pygments_lexer": "ipython3",
   "version": "3.9.7"
  }
 },
 "nbformat": 4,
 "nbformat_minor": 5
}
